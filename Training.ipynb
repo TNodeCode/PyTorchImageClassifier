{
 "cells": [
  {
   "cell_type": "markdown",
   "id": "6ce67af6-f60d-49e5-b080-be6eed136316",
   "metadata": {},
   "source": [
    "# Model Training"
   ]
  },
  {
   "cell_type": "code",
   "execution_count": null,
   "id": "1dd873ee-42cc-4cd3-bd04-7e6132bef053",
   "metadata": {},
   "outputs": [],
   "source": [
    "import os\n",
    "import torch\n",
    "from torch.utils.data import DataLoader\n",
    "from torchvision.transforms import v2\n",
    "from torchvision.datasets import ImageFolder\n",
    "\n",
    "from datasets.image_folder import ImageFolderDataset\n",
    "from classifiers import *\n",
    "\n",
    "%load_ext autoreload\n",
    "%autoreload 2"
   ]
  },
  {
   "cell_type": "code",
   "execution_count": null,
   "id": "da0527d3-f85e-45ac-be3a-7e2f0c721aef",
   "metadata": {},
   "outputs": [],
   "source": [
    "device = \"cuda\" if torch.cuda.is_available() else \"cpu\"\n",
    "\n",
    "transform_train = v2.Compose([\n",
    "    v2.RandomResizedCrop(224, scale=(0.7, 1.0)),\n",
    "    v2.RandomHorizontalFlip(),\n",
    "    v2.RandomVerticalFlip(),\n",
    "    v2.RandomRotation(45),\n",
    "    v2.ToTensor(),\n",
    "    v2.ToDtype(torch.float32),\n",
    "    v2.Normalize(mean=[0.485, 0.456, 0.406], std=[0.229, 0.224, 0.225]),\n",
    "])\n",
    "\n",
    "transform_val = v2.Compose([    \n",
    "    v2.RandomResizedCrop(224, scale=(1.0, 1.0)),\n",
    "    v2.ToTensor(),\n",
    "    v2.ToDtype(torch.float32),\n",
    "    v2.Normalize(mean=[0.485, 0.456, 0.406], std=[0.229, 0.224, 0.225]),\n",
    "])\n",
    "\n",
    "dataset = ImageFolderDataset(\n",
    "    root_dir = os.getcwd() + \"/images\",\n",
    "    dataset_name = \"leafes\",\n",
    "    batch_size_train = 16,\n",
    "    batch_size_val = 16,\n",
    "    transform_train = transform_train,\n",
    "    transform_val = transform_val\n",
    ")"
   ]
  },
  {
   "cell_type": "code",
   "execution_count": null,
   "id": "b292e5b7-43cb-433f-bcde-d49abfedd247",
   "metadata": {},
   "outputs": [],
   "source": [
    "dataset.summarize()"
   ]
  },
  {
   "cell_type": "code",
   "execution_count": null,
   "id": "1ba1e89a-0cc3-4a32-b8fb-72481f4bfccd",
   "metadata": {},
   "outputs": [],
   "source": [
    "classifier = MobileNetV3SmallClassifier(\n",
    "    num_classes=dataset.num_classes,\n",
    "    device=device,\n",
    "    fine_tuning=True\n",
    ")"
   ]
  },
  {
   "cell_type": "code",
   "execution_count": null,
   "id": "ed33dc73-52c6-424a-9b5a-cf551c21fd61",
   "metadata": {},
   "outputs": [],
   "source": [
    "classifier.train(\n",
    "    n_epochs = 50,\n",
    "    lr = 1e-3,\n",
    "    start_epoch = 0,\n",
    "    resume = None,\n",
    "    save_every = 50,\n",
    "    lr_step_every = 10,\n",
    "    dataset=dataset,\n",
    "    num_classes = dataset.num_classes,\n",
    "    device=device,\n",
    "    log_dir=os.path.join(os.getcwd(), \"logs\", dataset.dataset_name, classifier.name),\n",
    ")"
   ]
  }
 ],
 "metadata": {
  "kernelspec": {
   "display_name": "Python 3 (ipykernel)",
   "language": "python",
   "name": "python3"
  },
  "language_info": {
   "codemirror_mode": {
    "name": "ipython",
    "version": 3
   },
   "file_extension": ".py",
   "mimetype": "text/x-python",
   "name": "python",
   "nbconvert_exporter": "python",
   "pygments_lexer": "ipython3",
   "version": "3.10.6"
  }
 },
 "nbformat": 4,
 "nbformat_minor": 5
}
